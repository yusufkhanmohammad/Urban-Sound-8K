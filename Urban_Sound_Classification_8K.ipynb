{
  "nbformat": 4,
  "nbformat_minor": 0,
  "metadata": {
    "colab": {
      "name": "Urban Sound Classification 8K.ipynb",
      "provenance": [],
      "collapsed_sections": [],
      "authorship_tag": "ABX9TyMz0iTmf6XTfAmX8pwFO8K9",
      "include_colab_link": true
    },
    "kernelspec": {
      "name": "python3",
      "display_name": "Python 3"
    }
  },
  "cells": [
    {
      "cell_type": "markdown",
      "metadata": {
        "id": "view-in-github",
        "colab_type": "text"
      },
      "source": [
        "<a href=\"https://colab.research.google.com/github/yusufkhanmohammad/Urban-Sound-8K/blob/master/Urban_Sound_Classification_8K.ipynb\" target=\"_parent\"><img src=\"https://colab.research.google.com/assets/colab-badge.svg\" alt=\"Open In Colab\"/></a>"
      ]
    },
    {
      "cell_type": "markdown",
      "metadata": {
        "id": "dnAUfTY3ctVk",
        "colab_type": "text"
      },
      "source": [
        " *This dataset contains 8732 labeled sound excerpts (<=4s) of urban sounds from 10 classes: air_conditioner, car_horn, children_playing, dog_bark, drilling, enginge_idling, gun_shot, jackhammer, siren, and street_music. The classes are drawn from the urban sound taxonomy. For a detailed description of the dataset and how it was compiled please refer to our paper. All excerpts are taken from field recordings uploaded to www.freesound.org. The files are pre-sorted into ten folds (folders named fold1-fold10) to help in the reproduction of and comparison with the automatic classification results reported in the article above.\n",
        "\n",
        "In addition to the sound excerpts, a CSV file containing metadata about each excerpt is also provided.*"
      ]
    },
    {
      "cell_type": "code",
      "metadata": {
        "id": "LWvSKjlxccH9",
        "colab_type": "code",
        "colab": {}
      },
      "source": [
        "import pandas as pd\n",
        "import numpy as np\n",
        "import os\n",
        "import librosa\n",
        "import librosa.display\n",
        "import glob \n",
        "import skimage\n",
        "pd.plotting.register_matplotlib_converters()\n",
        "import matplotlib.pyplot as plt\n",
        "%matplotlib inline\n",
        "import seaborn as sns\n",
        "\n",
        "from sklearn.model_selection import train_test_split\n",
        "from sklearn.metrics import classification_report\n",
        "from sklearn.model_selection import GridSearchCV\n",
        "from sklearn.preprocessing import MinMaxScaler\n",
        "from tensorflow.keras.models import Sequential\n",
        "from tensorflow.keras.layers import Conv2D, Flatten, Dense, MaxPool2D, Dropout\n",
        "from tensorflow.keras.utils import to_categorical \n",
        "\n",
        "from sklearn.ensemble import RandomForestClassifier\n",
        "from sklearn.svm import SVC\n"
      ],
      "execution_count": 0,
      "outputs": []
    },
    {
      "cell_type": "code",
      "metadata": {
        "id": "aseDpfjodM30",
        "colab_type": "code",
        "colab": {}
      },
      "source": [
        "df = pd.read_csv(\"../input/urbansound8k/UrbanSound8K.csv\")\n",
        "\n",
        "'''We will extract classes from this metadata.'''\n",
        "\n",
        "df.head()"
      ],
      "execution_count": 0,
      "outputs": []
    },
    {
      "cell_type": "code",
      "metadata": {
        "id": "Q8IKxxYZdjqz",
        "colab_type": "code",
        "colab": {}
      },
      "source": [
        "dat1, sampling_rate1 = librosa.load('../input/urbansound8k/fold5/100032-3-0-0.wav')\n",
        "dat2, sampling_rate2 = librosa.load('../input/urbansound8k/fold5/100263-2-0-117.wav')"
      ],
      "execution_count": 0,
      "outputs": []
    },
    {
      "cell_type": "code",
      "metadata": {
        "id": "Q2zLCAOzdkTM",
        "colab_type": "code",
        "colab": {}
      },
      "source": [
        "plt.figure(figsize=(20, 10))\n",
        "D = librosa.amplitude_to_db(np.abs(librosa.stft(dat1)), ref=np.max)\n",
        "plt.subplot(4, 2, 1)\n",
        "librosa.display.specshow(D, y_axis='linear')\n",
        "plt.colorbar(format='%+2.0f dB')\n",
        "plt.title('Linear-frequency power spectrogram')"
      ],
      "execution_count": 0,
      "outputs": []
    },
    {
      "cell_type": "code",
      "metadata": {
        "id": "AaoHB0zfdmxr",
        "colab_type": "code",
        "colab": {}
      },
      "source": [
        "plt.figure(figsize=(20, 10))\n",
        "D = librosa.amplitude_to_db(np.abs(librosa.stft(dat2)), ref=np.max)\n",
        "plt.subplot(4, 2, 1)\n",
        "librosa.display.specshow(D, y_axis='linear')\n",
        "plt.colorbar(format='%+2.0f dB')\n",
        "plt.title('Linear-frequency power spectrogram')"
      ],
      "execution_count": 0,
      "outputs": []
    },
    {
      "cell_type": "code",
      "metadata": {
        "id": "7i7uIDsBdpkT",
        "colab_type": "code",
        "colab": {}
      },
      "source": [
        "arr = np.array(df[\"slice_file_name\"])\n",
        "fold = np.array(df[\"fold\"])\n",
        "cla = np.array(df[\"class\"])\n",
        "\n",
        "for i in range(192, 197, 2):\n",
        "    path = '../input/urbansound8k/fold' + str(fold[i]) + '/' + arr[i]\n",
        "    data, sampling_rate = librosa.load(path)\n",
        "    plt.figure(figsize=(10, 5))\n",
        "    D = librosa.amplitude_to_db(np.abs(librosa.stft(data)), ref=np.max)\n",
        "    plt.subplot(4, 2, 1)\n",
        "    librosa.display.specshow(D, y_axis='linear')\n",
        "    plt.colorbar(format='%+2.0f dB')\n",
        "    plt.title(cla[i])"
      ],
      "execution_count": 0,
      "outputs": []
    },
    {
      "cell_type": "code",
      "metadata": {
        "id": "zGxgRzCFdstj",
        "colab_type": "code",
        "colab": {}
      },
      "source": [
        "feature = []\n",
        "label = []\n",
        "\n",
        "def parser(row):\n",
        "    # Function to load files and extract features\n",
        "    for i in range(8732):\n",
        "        file_name = '../input/urbansound8k/fold' + str(df[\"fold\"][i]) + '/' + df[\"slice_file_name\"][i]\n",
        "        # Here kaiser_fast is a technique used for faster extraction\n",
        "        X, sample_rate = librosa.load(file_name, res_type='kaiser_fast') \n",
        "        # We extract mfcc feature from data\n",
        "        mels = np.mean(librosa.feature.melspectrogram(y=X, sr=sample_rate).T,axis=0)        \n",
        "        feature.append(mels)\n",
        "        label.append(df[\"classID\"][i])\n",
        "    return [feature, label]"
      ],
      "execution_count": 0,
      "outputs": []
    },
    {
      "cell_type": "code",
      "metadata": {
        "id": "s-1VSusEd0Yr",
        "colab_type": "code",
        "colab": {}
      },
      "source": [
        "temp = parser(df)"
      ],
      "execution_count": 0,
      "outputs": []
    },
    {
      "cell_type": "code",
      "metadata": {
        "id": "nFaHq96od12r",
        "colab_type": "code",
        "colab": {}
      },
      "source": [
        "temp = np.array(temp)\n",
        "data = temp.transpose()"
      ],
      "execution_count": 0,
      "outputs": []
    },
    {
      "cell_type": "code",
      "metadata": {
        "id": "-1afzcIYd3M1",
        "colab_type": "code",
        "colab": {}
      },
      "source": [
        "X_ = data[:, 0]\n",
        "Y = data[:, 1]\n",
        "print(X_.shape, Y.shape)\n",
        "X = np.empty([8732, 128])"
      ],
      "execution_count": 0,
      "outputs": []
    },
    {
      "cell_type": "code",
      "metadata": {
        "id": "VEBqEhsid5Fi",
        "colab_type": "code",
        "colab": {}
      },
      "source": [
        "for i in range(8732):\n",
        "    X[i] = (X_[i])"
      ],
      "execution_count": 0,
      "outputs": []
    },
    {
      "cell_type": "code",
      "metadata": {
        "id": "O8rvTeB_d6aS",
        "colab_type": "code",
        "colab": {}
      },
      "source": [
        "Y = to_categorical(Y)"
      ],
      "execution_count": 0,
      "outputs": []
    },
    {
      "cell_type": "code",
      "metadata": {
        "id": "jfna8UPmd8wa",
        "colab_type": "code",
        "colab": {}
      },
      "source": [
        "print(X.shape)\n",
        "print(Y.shape)"
      ],
      "execution_count": 0,
      "outputs": []
    },
    {
      "cell_type": "code",
      "metadata": {
        "id": "Zz4IeMZNd-uo",
        "colab_type": "code",
        "colab": {}
      },
      "source": [
        "X_train, X_test, Y_train, Y_test = train_test_split(X, Y, random_state = 1)"
      ],
      "execution_count": 0,
      "outputs": []
    },
    {
      "cell_type": "code",
      "metadata": {
        "id": "KT6d6tnfd_5F",
        "colab_type": "code",
        "colab": {}
      },
      "source": [
        "X_train = X_train.reshape(6549, 16, 8, 1)\n",
        "X_test = X_test.reshape(2183, 16, 8, 1)"
      ],
      "execution_count": 0,
      "outputs": []
    },
    {
      "cell_type": "code",
      "metadata": {
        "id": "9xP0PDZfeCOi",
        "colab_type": "code",
        "colab": {}
      },
      "source": [
        ""
      ],
      "execution_count": 0,
      "outputs": []
    },
    {
      "cell_type": "markdown",
      "metadata": {
        "id": "ZaeHoLsTeDDi",
        "colab_type": "text"
      },
      "source": [
        "# Model Training and Testing"
      ]
    },
    {
      "cell_type": "code",
      "metadata": {
        "id": "2xcgX4kXeL60",
        "colab_type": "code",
        "colab": {}
      },
      "source": [
        "input_dim = (16, 8, 1)\n",
        "model = Sequential()\n",
        "model.add(Conv2D(64, (3, 3), padding = \"same\", activation = \"tanh\", input_shape = input_dim))\n",
        "model.add(MaxPool2D(pool_size=(2, 2)))\n",
        "model.add(Conv2D(128, (3, 3), padding = \"same\", activation = \"tanh\"))\n",
        "model.add(MaxPool2D(pool_size=(2, 2)))\n",
        "model.add(Dropout(0.1))\n",
        "model.add(Flatten())\n",
        "model.add(Dense(1024, activation = \"tanh\"))\n",
        "model.add(Dense(10, activation = \"softmax\"))\n",
        "\n",
        "model.summary()\n",
        "\n",
        "model.compile(optimizer = 'adam', loss = 'categorical_crossentropy', metrics = ['accuracy'])\n",
        "\n",
        "model.fit(X_train, Y_train, epochs = 90, batch_size = 50, validation_data = (X_test, Y_test))"
      ],
      "execution_count": 0,
      "outputs": []
    },
    {
      "cell_type": "code",
      "metadata": {
        "id": "93vcppfreVv9",
        "colab_type": "code",
        "colab": {}
      },
      "source": [
        "predictions = model.predict(X_test)\n",
        "score = model.evaluate(X_test, Y_test)\n",
        "print(score)"
      ],
      "execution_count": 0,
      "outputs": []
    },
    {
      "cell_type": "code",
      "metadata": {
        "id": "YnOHDd9bediq",
        "colab_type": "code",
        "colab": {}
      },
      "source": [
        "preds = np.argmax(predictions, axis = 1)"
      ],
      "execution_count": 0,
      "outputs": []
    },
    {
      "cell_type": "code",
      "metadata": {
        "id": "7ibslxXEegAC",
        "colab_type": "code",
        "colab": {}
      },
      "source": [
        "result = pd.DataFrame(preds)\n",
        "result.to_csv(\"UrbanSound8kResults.csv\")"
      ],
      "execution_count": 0,
      "outputs": []
    }
  ]
}